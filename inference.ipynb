{
 "cells": [
  {
   "cell_type": "code",
   "execution_count": 1,
   "metadata": {},
   "outputs": [
    {
     "name": "stderr",
     "output_type": "stream",
     "text": [
      "/home/james/Documents/git/transformer-translator/.venv/lib/python3.10/site-packages/tqdm/auto.py:21: TqdmWarning: IProgress not found. Please update jupyter and ipywidgets. See https://ipywidgets.readthedocs.io/en/stable/user_install.html\n",
      "  from .autonotebook import tqdm as notebook_tqdm\n"
     ]
    }
   ],
   "source": [
    "from pathlib import Path\n",
    "import torch\n",
    "import torch.nn as nn \n",
    "from config import get_config, latest_weights_file_path\n",
    "from train import get_model, get_ds, run_validation\n"
   ]
  },
  {
   "cell_type": "code",
   "execution_count": 2,
   "metadata": {},
   "outputs": [
    {
     "name": "stdout",
     "output_type": "stream",
     "text": [
      "Using device: cpu\n",
      "Max length of source sentence: 397\n",
      "Max length of target sentence: 68\n"
     ]
    },
    {
     "data": {
      "text/plain": [
       "<All keys matched successfully>"
      ]
     },
     "execution_count": 2,
     "metadata": {},
     "output_type": "execute_result"
    }
   ],
   "source": [
    "# device = torch.device('cuda' if torch.cuda.is_available() else 'cpu')\n",
    "device = 'cpu'\n",
    "print('Using device:', device)\n",
    "\n",
    "config = get_config()\n",
    "train_dataloader, val_dataloader, tokenizer_src, tokenizer_tgt = get_ds(config)\n",
    "model = get_model(config, tokenizer_src.get_vocab_size(), tokenizer_tgt.get_vocab_size()).to(device)\n",
    "\n",
    "#Load the pretrained weights\n",
    "model_filename = latest_weights_file_path(config)\n",
    "# state = torch.load(model_filename) #cuda\n",
    "# model.load_state_dict(state['mode_state_dict']) # cuda\n",
    "model.load_state_dict(torch.load(model_filename)['model_state_dict']) # cpu"
   ]
  },
  {
   "cell_type": "code",
   "execution_count": 3,
   "metadata": {},
   "outputs": [
    {
     "name": "stderr",
     "output_type": "stream",
     "text": [
      "stty: 'standard input': Inappropriate ioctl for device\n"
     ]
    },
    {
     "name": "stdout",
     "output_type": "stream",
     "text": [
      "--------------------------------------------------------------------------------\n",
      "    SOURCE: WASHINGTON (CNN) -- President Obama recently shared sensitive intelligence with Russia and China about Iran's newly unveiled nuclear facility to get the two countries' leaders on board with new sanctions against Tehran, senior U.S. officials revealed Friday. President Obama speaks with Chinese President Hu Jintao, left, at the Group of 20 plenary session Friday. And the strategy to build a coalition with Russia and China \"has already begun to bear fruit,\" one senior U.S. official said. The officials declined to be identified because of the sensitive nature of the negotiations. Like the United States, Russia and China are both veto-wielding members of the U.N. Security Council. Both countries have long opposed additional sanctions against Iran for its nuclear program, although Russian leaders recently have said they might be willing to compromise.  Watch Obama discuss the recent news » . Iran admitted to the existence of a second uranium enrichment plant in a letter sent to the International Atomic Energy Agency on Monday, the IAEA said Friday. The announcement prompted Obama, British Prime Minister Gordon Brown and French President Nicolas Sarkozy -- all in Pittsburgh, Pennsylvania, for the Group of 20 economic summit -- to hold a news conference in which they threatened a stiff response if Iran fails to conform to international obligations regarding nuclear development. \"Iran is breaking rules that all nations must follow,\" Obama said. He called on the Iranian government to \"take concrete steps\" to demonstrate it will comply with its international guidelines to ensure its nuclear program is for civilian use and not a covert weapons program.\n",
      "    TARGET: Senior U.S. official: Strategy is to build a coalition with Russia and China . Iran admits to existence of second uranium enrichment plant, U.N. agency says . Officials: President Obama recently shared sensitive intelligence with Russia, China . Administration's goal is to impose new sanctions on Iran, officials say .\n",
      " PREDICTED: U . S . official : is to a coalition with Russia and China . Iran admits to existence of second plant , U . N . agency says . Officials : President Obama recently sensitive intelligence with Russia , China . Administration ' s goal is to impose new sanctions on Iran , officials say .\n",
      "--------------------------------------------------------------------------------\n",
      "    SOURCE: (CNN) -- Mexican authorities searching a man with a bulge under his shirt at the airport in the nation's capital found 18 monkeys hidden beneath his clothes, police said. Investigators grew suspicious after Roberto Sol Cabrera Zavaleta, 38, became \"markedly nervous\" when asked what he was transporting, Mexico's Public Safety Department said. Two of the tiny titi monkeys he was carrying in a belt were dead, the department said in a statement, and 16 of them survived the journey from Lima, Peru. Cabrera has been detained as authorities continue their investigation, the statement said. In an interview with authorities released by police, Cabrera said he first carried the monkeys in his suitcase, but then hid the animals in his clothes so they would not be harmed by X-ray machines at the airport. Cabrera described the animals as \"pets\" and told authorities he had purchased them for $30. Titi monkeys are protected endangered species requiring a permit for possession, police said. Images released by police show the tiny creatures, many of which are tied up in pouches, squirming in a cardboard box.\n",
      "    TARGET: Police say the man was carrying 18 monkeys in a belt under his shirt . Authorities say they grew suspicious when Cabrera was nervous during questioning . Titi monkeys are an endangered species requiring permits for ownership .\n",
      " PREDICTED: Police say the man was carrying 18 monkeys in a belt under his . Authorities say they grew suspicious when was during questioning . monkeys are an endangered species for ownership .\n",
      "--------------------------------------------------------------------------------\n",
      "    SOURCE: New York (CNN) -- Former pro basketball star Jayson Williams was sentenced to an additional year in prison Friday after he pleaded guilty to a misdemeanor charge of driving while intoxicated, according to the Manhattan district attorney's office. Williams had a blood-alcohol level of more than twice the legal limit when he crashed his Mercedes into a tree in lower Manhattan in January -- just a week before he pleaded guilty to aggravated assault for accidentally shooting and killing a limousine driver in New Jersey, the district attorney's office told CNN. The year will be added on to the current five-year prison sentence the former NBA player is serving in state prison in New Jersey. He also was also slapped with a $16,433 fine to repair the tree he hit. Williams had been sentenced to five years in prison after fatally shooting his limo driver, Costas \"Gus\" Christofi, in February 2002 at his New Jersey estate. Christofi had been hired to drive the former athlete and several of his friends to dinner after a sporting event in Pennsylvania. The group, including four members of the Harlem Globetrotters, later went back to Williams' home. The prosecution argued that Williams was recklessly handling a 12-gauge shotgun when it discharged and that he and two others tried to make it look as if Christofi had shot himself. Williams, who retired from the NBA in 1999 because of a leg injury, played nine seasons with the Philadelphia 76ers and the New Jersey Nets.\n",
      "    TARGET: Jayson Williams is sentenced for driving while intoxicated . He already was sentenced to five years in fatal accidental shooting in 2002 . Williams played nine seasons in the NBA before retiring in 1999 .\n",
      " PREDICTED: Williams is sentenced for driving while . He already was sentenced to five years in fatal accidental shooting in 2002 . Williams played nine seasons in the NBA before retiring in 1999 .\n",
      "--------------------------------------------------------------------------------\n",
      "    SOURCE: Los Angeles, California (CNN) -- Actor and filmmaker Dennis Hopper has been diagnosed with prostate cancer, his manager Sam Maydew said Friday. Hopper is being treated in a special program at the University of Southern California, according to CNN news affiliate KTLA. He was expected to appear at an exhibition of his photography at the Australian Centre for the Moving Image in Melbourne but has cancelled in order to focus on treatment. \"We're hoping for the best,\" Maydew said. No other details were immediately available. On September 30, Hopper was hospitalized in New York for flu-like symptoms and stomach pains. He was released the next day feeling \"much better,\" according to KTLA. The 73-year-old Academy Award winner is known for his roles in \"Rebel Without a Cause,\" \"Hoosiers,\" \"Apocalypse Now\" and \"Easy Rider\" -- the latter of which he also directed -- among scores of other films. Hopper recently finished shooting the second season of the Starz drama \"Crash,\" based on the 2006 Oscar-winning film.\n",
      "    TARGET: Actor Dennis Hopper is being treated at the University of Southern California . The actor has cancelled upcoming travel to focus on his treatment . He was hospitalized in late September with flu-like symptoms and stomach pain . Hopper just finished shooting the second season of the Starz drama \"Crash\"\n",
      " PREDICTED: Actor Dennis Hopper is being treated at the University of Southern California . The actor has cancelled upcoming travel to focus on his treatment . He was hospitalized in late September with flu - like symptoms and stomach pain . Hopper just finished shooting the second season of the drama \" Crash \"\n",
      "--------------------------------------------------------------------------------\n",
      "    SOURCE: Washington (CNN) -- A top military official at Walter Reed Army Medical Center has been relieved of duty and charged with knowingly falsifying his personnel records. Command Sgt. Maj. Stoney Crump, the senior enlisted officer for the Medical Center Brigade, had the \"intent to deceive\" when he submitted a false official record incorrectly stating that he had attended several military educational courses, according to the Army charge sheet. Among the courses he is alleged to have attended were Reconnaissance School, Sniper School,; Drill Sergeant Course,; U.S. Army Ranger School and several Special Forces schools and courses, the Army charge sheet says. Crump is also charged with falsely stating in a biography he was a registered nurse. Other charges say he knowingly wore up to fifteen service ribbons and awards he was not entitled to wear, including a Marine Corps Combat Action ribbon and a Presidential Unit Citation, which is awarded for an extremely meritorious or heroic act, usually in the face of an armed enemy. In 13 separate counts, Crump is charged under two different sections of the Uniform Code of Military Justice. This opens the door to a possible court martial proceeding. The alleged falsification of his records and biography date back to 2007 when Crump was stationed in Germany and has continued until April of this year, according to the charge sheet. As the top enlisted soldier assigned to the Walter Reed medical brigade, Crump would have had continuous contact with wounded troops at the hospital who have won numerous medals and awards in the combat zone.\n",
      "    TARGET: Medical brigade's senior enlisted officer claims to have attended several educational courses . Sgt. Maj. Stoney Crump may face court martial . Crump is also charged with wearing as many as 15 service ribbons he isn't entitled to wear .\n",
      " PREDICTED: Medical ' s senior officer claims to have attended several . Sgt . Maj . Crump may face court martial . Crump is also charged with wearing as many as 15 service ribbons he isn ' t to wear .\n",
      "--------------------------------------------------------------------------------\n",
      "    SOURCE: (CNN)  -- A Jersey City, New Jersey, police officer shot in the line of duty last week died of his injuries Tuesday, a day before his 38th birthday, a spokeswoman for the city's mayor announced. Police officers gather at the site of a shootout in Jersey City, New Jersey, on Thursday. Jennifer Morrill said Officer Marc DiNardo, who was wounded last Thursday in a shootout, passed away Tuesday morning. Jersey City Police Chief Thomas Comey told reporters Monday night that DiNardo was not expected to live. DiNardo was one of five officers injured early Thursday as they moved in for a tactical entry into an apartment where a shooting suspect and another person were holed up. Officials say the officers were met with gunfire, and a shootout ensued. Both suspects were killed, and DiNardo suffered two gunshot wounds to the face. Melissa Bartholomew, a family friend and fellow police officer, read a statement Monday from DiNardo's family, which includes his wife Mary, three young children and his parents. She said DiNardo, whose 38th birthday is Wednesday, had a personality that no one could forget. \"Marc was not a selfish man. He was a moral man; a man who gave himself for those who couldn't care for themselves,\" she said. DiNardo's family plans to donate his organs, said Joe Scott, president of LibertyHealth and its Jersey City Medical Center. \"This unselfish act will live on in the lives that Marc will impact through organ donation.\" Officer Michael Camacho, who was also wounded in the shootout, was upgraded from critical to serious condition and moved out of the intensive care unit, Scott said Monday. Camacho was shot in the neck during the gun battle. The other three officers were treated at a hospital and released.\n",
      "    TARGET: Marc DiNardo was one of five officers injured in New Jersey shootout last week . Two suspects were killed in shootout; DiNardo was shot twice in face . DiNardo's family plans to donate his organs, medical center's president says .\n",
      " PREDICTED: DiNardo was one of five officers injured in New Jersey shootout last week . Two suspects were killed in shootout ; DiNardo was shot twice in face . DiNardo ' s family plans to donate his organs , medical center ' s president says .\n",
      "--------------------------------------------------------------------------------\n",
      "    SOURCE: Lagos, Nigeria (CNN) -- Fifteen people, including a baby, were killed and 18 others were injured Sunday when a truck on its way to Lagos, Nigeria, crashed into several vehicles and caught fire, police said Monday. Lagos police spokesman Frank Mba said the truck's brakes failed outside Lagos, and the driver lost control. The 18 people injured were being treated in a hospital, Mba said.\n",
      "    TARGET: A baby was among those killed in the multi-vehicle crash . The truck was headed to Lagos when its brakes failed .\n",
      " PREDICTED: A baby was among those killed in the multi - vehicle crash . The truck was headed to Lagos when its brakes failed .\n",
      "--------------------------------------------------------------------------------\n",
      "    SOURCE: (CNN) -- The remains of an Air Force major missing since the Vietnam War have been identified after years of searches, the Department of Defense said. Air Force Maj. Curtis Daniel Miller of Palacios, Texas, was one of 14 men whose plane was shot down on March 29, 1972. Miller and his crew were flying over southern Laos when a missile struck their plane, the Defense Department said Tuesday. After the shoot-down, rescue teams had to call off the search after two days because of heavy fighting near the crash site in Savannakhet province. In 1986, U.S. and Laotian search teams found the remains of nine of the men who were on the plane. In 2005 and 2006, search teams found more remains. DNA tests have confirmed that they belong to Miller and the other missing crew members. Miller will be buried with full military honors at the Dallas-Ft. Worth National Cemetery on March 29.\n",
      "    TARGET: Maj. Curtis Daniel Miller of Palacios, Texas, was shot down on March 29, 1972 . Miller and his crew were flying over southern Laos when a missile struck their plane . Miller will be buried with full military honors at the Dallas-Ft. Worth National Cemetery .\n",
      " PREDICTED: In the most recent attack , two men were killed Thursday in Sadr City area of Florida , officials say . Police : ' s name is being treated at a hospital , police say .\n",
      "--------------------------------------------------------------------------------\n",
      "    SOURCE: WASHINGTON (CNN)  -- It was the annual revving of the engines Sunday at the Lincoln Memorial as thousands of motorcyclists converged on Washington to honor those who have served the country. Members of Rolling Thunder ride into Washington on Sunday. Riders from Rolling Thunder, a group created to bring attention to soldiers listed as POW or MIA, rolled into the nation's capital, greeting crowds of supporters who lined the streets. \"It's a great tribute to people that have sacrificed everything, including their life,\" said rider Mick Smith. He and fellow Vietnam veteran Juan Cruz rode their motorcycles from Pennsylvania. \"It's a brotherhood that we have, veterans of the foreign wars,\" Cruz said. \"The camaraderie is so perfect that we don't need anything else. We forget about our problems.\" Lyn Seidler was among the spectators who lined the motorcycle route in the hot and humid weather to greet the bikers as they passed over the Arlington Memorial Bridge into Washington. \"The servicemen made a sacrifice,\" Seidler said. For her, cheering on Rolling Thunder was a way to help celebrate troops, \"and to say thank you,\" she said. After completing their rides, the bikers gathered in front of the Lincoln Memorial. \"I'm here today to honor our veterans, our fallen veterans, to help the living by supporting the dead,\" Cruz said. The Defense Department says there are more than 88,000 soldiers still listed as missing in action from World War II, the Korean War and the Vietnam War combined. -CNN's Lauren Pratapas contributed to this report .\n",
      "    TARGET: Rolling Thunder created to bring attention to soldiers listed as POW or MIA . \"It's a brotherhood that we have, veterans of the foreign wars,\" rider says . Defense Department: More than 88,000 soldiers listed as missing in action .\n",
      " PREDICTED: Rolling created to bring attention to soldiers listed as or . \" It ' s a that we have , veterans of the foreign ,\" rider says . Defense Department : More than 88 , 000 soldiers listed as missing in action .\n",
      "--------------------------------------------------------------------------------\n",
      "    SOURCE: (CNN)  -- China continued their domination in the swimming pool at the 16th Asian Games, claiming five of the six golds on offer on the second day as 14-year-old Ye Shi Wen announced her arrival on the world stage. The much talked about teenager thrashed the opposition to win the women's 400m individual medley by more than four seconds. She touched in four minutes 33.79 seconds to leave compatriot and Asian record holder Li Xuanxu with silver. Taiwan's Cheng Wan-jung took bronze. Ye is tipped for future stardom and is already targeting next year's world championships and the 2012 London Olympics. \"This is the first time that I have won a gold medal at such a big event, so it means a lot to me and my family,\" she told AFP . Ye won the 200m medley at China's national championships earlier this year and won three World Cup races in Beijing last month. By the finish of the second day of competition in Guangzhou, the hosts were well clear in the medals table with 37 golds, with Korea next best on 13. China's women's gymnasts duly emulated the gold medal of their male counterparts in the team competition, their 10th successive victory at the Asiad. Japan took the silver and Uzbekistan the bronze. The Asian Games has an eclectic mix of sports and dance sport is debuting with the hosts also proving their dominance in the ballroom. They added five more titles to the five they collected on the previous day. India's first gold came for Pankaj Advani as he won the singles title in the English Billiard competition.\n",
      "    TARGET: Hosts China continue to dominate Asian Games leading medals table with 37 golds . 14-year-old Ye Shi Wen claims gold in the swimming in 400m medley . India's first gold comes from Pankaj Advani in the English Billiards .\n",
      " PREDICTED: Hosts China continue to Asian Games leading table with 37 . 14 - year - old Wen claims gold in the in 400m . India ' s first gold comes from in the English .\n",
      "--------------------------------------------------------------------------------\n"
     ]
    }
   ],
   "source": [
    "run_validation(model, val_dataloader, tokenizer_src, tokenizer_tgt, config['seq_len'], device, lambda msg: print(msg), 0, None, 10)"
   ]
  },
  {
   "cell_type": "code",
   "execution_count": null,
   "metadata": {},
   "outputs": [],
   "source": []
  }
 ],
 "metadata": {
  "kernelspec": {
   "display_name": ".venv",
   "language": "python",
   "name": "python3"
  },
  "language_info": {
   "codemirror_mode": {
    "name": "ipython",
    "version": 3
   },
   "file_extension": ".py",
   "mimetype": "text/x-python",
   "name": "python",
   "nbconvert_exporter": "python",
   "pygments_lexer": "ipython3",
   "version": "3.10.12"
  }
 },
 "nbformat": 4,
 "nbformat_minor": 2
}
