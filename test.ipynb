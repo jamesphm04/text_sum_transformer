{
 "cells": [
  {
   "cell_type": "code",
   "execution_count": 1,
   "metadata": {},
   "outputs": [
    {
     "data": {
      "text/plain": [
       "<All keys matched successfully>"
      ]
     },
     "execution_count": 1,
     "metadata": {},
     "output_type": "execute_result"
    }
   ],
   "source": [
    "import torch\n",
    "\n",
    "from model import build_transformer\n",
    "from config import get_config\n",
    "\n",
    "config = get_config()\n",
    "\n",
    "# Step 1: Define the model architecture\n",
    "\n",
    "device = 'cpu'\n",
    "vocab_src_len = 18368\n",
    "vocab_tgt_len = 6858\n",
    "\n",
    "model = build_transformer(vocab_src_len, vocab_tgt_len, config[\"seq_len\"], config['seq_len'], d_model=config['d_model']).to(device)\n",
    "\n",
    "\n",
    "# Step 3: Load the trained weights (state_dict) from the .pt file\n",
    "model_path = 'cnn_dailymail_weights/tmodel_97.pt'\n",
    "model.load_state_dict(torch.load(model_path)['model_state_dict'])"
   ]
  },
  {
   "cell_type": "code",
   "execution_count": 2,
   "metadata": {},
   "outputs": [
    {
     "name": "stderr",
     "output_type": "stream",
     "text": [
      "/home/james/Documents/git/transformer-translator/.venv/lib/python3.10/site-packages/tqdm/auto.py:21: TqdmWarning: IProgress not found. Please update jupyter and ipywidgets. See https://ipywidgets.readthedocs.io/en/stable/user_install.html\n",
      "  from .autonotebook import tqdm as notebook_tqdm\n"
     ]
    }
   ],
   "source": [
    "from sandbox import predict"
   ]
  },
  {
   "cell_type": "code",
   "execution_count": 6,
   "metadata": {},
   "outputs": [
    {
     "data": {
      "text/plain": [
       "{'src': \"BERLIN, Germany (CNN) -- Concerns were growing Wednesday for a polar bear born last month at a German zoo after its twin died and was possibly eaten by its mother. One year ago Vera gave birth to Flocke, pictured here playing in her enclosure in April. The young polar bear died Monday, less than two weeks after it was born, Nuremberg Zoo said. The surviving twin was doing well, the zoo said, but added that it was concerned the mother may not be able to care for it properly. Zookeepers watching a video feed from the bears' enclosure said they had noticed the baby bear looking thinner and weaker. They saw the bears' mother, Vera, nudging the dead bear with her nose and observing it -- and as of Wednesday, they said, the dead bear was nowhere to be seen. It is very, very sad, said zoo director Dag Encke. it is unfortunately frequently the case that with twins, one of the animals doesn't survive. Zookeepers had kept their distance from Vera and her babies, watching them only on camera so as not to make the mother feel threatened. Polar bears are known to eat their young if they sense any danger or interference. We have to worry more about the surviving young animal and take care that the polar bear with her baby is not disturbed, Encke said. So far, Vera is caring for the surviving baby in an exemplary way.One year ago Vera gave birth to Flocke, who became an instant celebrity across Germany. Flocke first birthday is Thursday.\",\n",
       " 'predict': 'school spilled Emergency s murder value Council from United insurgents time the voice value Council time Police . Smith also this attacks from I was newspaper the apparently Doug of were more , to well the school attacks from I ( it mission of school . about 19 commit doesn the'}"
      ]
     },
     "execution_count": 6,
     "metadata": {},
     "output_type": "execute_result"
    }
   ],
   "source": [
    "result = predict(model, \"BERLIN, Germany (CNN) -- Concerns were growing Wednesday for a polar bear born last month at a German zoo after its twin died and was possibly eaten by its mother. One year ago Vera gave birth to Flocke, pictured here playing in her enclosure in April. The young polar bear died Monday, less than two weeks after it was born, Nuremberg Zoo said. The surviving twin was doing well, the zoo said, but added that it was concerned the mother may not be able to care for it properly. Zookeepers watching a video feed from the bears' enclosure said they had noticed the baby bear looking thinner and weaker. They saw the bears' mother, Vera, nudging the dead bear with her nose and observing it -- and as of Wednesday, they said, the dead bear was nowhere to be seen. It is very, very sad, said zoo director Dag Encke. it is unfortunately frequently the case that with twins, one of the animals doesn't survive. Zookeepers had kept their distance from Vera and her babies, watching them only on camera so as not to make the mother feel threatened. Polar bears are known to eat their young if they sense any danger or interference. We have to worry more about the surviving young animal and take care that the polar bear with her baby is not disturbed, Encke said. So far, Vera is caring for the surviving baby in an exemplary way.One year ago Vera gave birth to Flocke, who became an instant celebrity across Germany. Flocke first birthday is Thursday.\")\n",
    "result"
   ]
  },
  {
   "cell_type": "code",
   "execution_count": null,
   "metadata": {},
   "outputs": [],
   "source": []
  },
  {
   "cell_type": "code",
   "execution_count": null,
   "metadata": {},
   "outputs": [],
   "source": []
  }
 ],
 "metadata": {
  "kernelspec": {
   "display_name": ".venv",
   "language": "python",
   "name": "python3"
  },
  "language_info": {
   "codemirror_mode": {
    "name": "ipython",
    "version": 3
   },
   "file_extension": ".py",
   "mimetype": "text/x-python",
   "name": "python",
   "nbconvert_exporter": "python",
   "pygments_lexer": "ipython3",
   "version": "3.10.12"
  }
 },
 "nbformat": 4,
 "nbformat_minor": 2
}
