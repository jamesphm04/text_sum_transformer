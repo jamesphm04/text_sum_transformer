{
 "cells": [
  {
   "cell_type": "code",
   "execution_count": 1,
   "metadata": {},
   "outputs": [
    {
     "data": {
      "text/plain": [
       "<All keys matched successfully>"
      ]
     },
     "execution_count": 1,
     "metadata": {},
     "output_type": "execute_result"
    }
   ],
   "source": [
    "import torch\n",
    "\n",
    "from model import build_transformer\n",
    "from config import get_config\n",
    "\n",
    "config = get_config()\n",
    "\n",
    "# Step 1: Define the model architecture\n",
    "\n",
    "# device = 'cpu'\n",
    "device = torch.device('cuda' if torch.cuda.is_available() else 'cpu')\n",
    "\n",
    "vocab_src_len = 18368\n",
    "vocab_tgt_len = 6858\n",
    "\n",
    "model = build_transformer(vocab_src_len, vocab_tgt_len, config[\"seq_len\"], config['seq_len'], d_model=config['d_model']).to(device)\n",
    "\n",
    "\n",
    "# Step 3: Load the trained weights (state_dict) from the .pt file\n",
    "model_path = 'cnn_dailymail_weights/tmodel_97.pt'\n",
    "model.load_state_dict(torch.load(model_path)['model_state_dict'])"
   ]
  },
  {
   "cell_type": "code",
   "execution_count": 2,
   "metadata": {},
   "outputs": [
    {
     "name": "stderr",
     "output_type": "stream",
     "text": [
      "/home/james/Documents/git/transformer-translator/.venv/lib/python3.10/site-packages/tqdm/auto.py:21: TqdmWarning: IProgress not found. Please update jupyter and ipywidgets. See https://ipywidgets.readthedocs.io/en/stable/user_install.html\n",
      "  from .autonotebook import tqdm as notebook_tqdm\n"
     ]
    }
   ],
   "source": [
    "from sandbox import predict"
   ]
  },
  {
   "cell_type": "code",
   "execution_count": 3,
   "metadata": {},
   "outputs": [
    {
     "data": {
      "text/plain": [
       "{'src': \"In a major breakthrough, researchers have developed a revolutionary treatment for a rare genetic disorder that affects thousands worldwide. The new gene therapy, named GeneCure, has shown unprecedented success in clinical trials, effectively correcting the defective genes responsible for the disorder. Patients who underwent the treatment exhibited significant improvement in their symptoms, with some experiencing complete remission. GeneCure works by introducing a harmless virus carrying the corrected genetic material into the patient's cells, addressing the root cause of the disorder at the molecular level. The therapy's success has generated excitement within the medical community, offering hope for those suffering from similar genetic conditions. The development of GeneCure marks a significant step forward in the field of gene therapy, paving the way for potential treatments for other genetic disorders. Researchers are optimistic about the broader implications of this breakthrough and are actively exploring its application in various medical contexts.\",\n",
       " 'predict': 'remains arrested in fall of Utah , source says . He was up on an hour that officials say . Some and financial officer has been working on loan to financial and federal officials .'}"
      ]
     },
     "execution_count": 3,
     "metadata": {},
     "output_type": "execute_result"
    }
   ],
   "source": [
    "result = predict(model, \"In a major breakthrough, researchers have developed a revolutionary treatment for a rare genetic disorder that affects thousands worldwide. The new gene therapy, named GeneCure, has shown unprecedented success in clinical trials, effectively correcting the defective genes responsible for the disorder. Patients who underwent the treatment exhibited significant improvement in their symptoms, with some experiencing complete remission. GeneCure works by introducing a harmless virus carrying the corrected genetic material into the patient's cells, addressing the root cause of the disorder at the molecular level. The therapy's success has generated excitement within the medical community, offering hope for those suffering from similar genetic conditions. The development of GeneCure marks a significant step forward in the field of gene therapy, paving the way for potential treatments for other genetic disorders. Researchers are optimistic about the broader implications of this breakthrough and are actively exploring its application in various medical contexts.\")\n",
    "result"
   ]
  },
  {
   "cell_type": "code",
   "execution_count": null,
   "metadata": {},
   "outputs": [],
   "source": []
  },
  {
   "cell_type": "code",
   "execution_count": null,
   "metadata": {},
   "outputs": [],
   "source": []
  }
 ],
 "metadata": {
  "kernelspec": {
   "display_name": ".venv",
   "language": "python",
   "name": "python3"
  },
  "language_info": {
   "codemirror_mode": {
    "name": "ipython",
    "version": 3
   },
   "file_extension": ".py",
   "mimetype": "text/x-python",
   "name": "python",
   "nbconvert_exporter": "python",
   "pygments_lexer": "ipython3",
   "version": "3.10.12"
  }
 },
 "nbformat": 4,
 "nbformat_minor": 2
}
